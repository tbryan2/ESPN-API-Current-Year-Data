{
 "cells": [
  {
   "cell_type": "code",
   "execution_count": null,
   "id": "f2c7f824",
   "metadata": {
    "pycharm": {
     "name": "#%%\n"
    }
   },
   "outputs": [],
   "source": [
    "# Dependencies\n",
    "import requests\n",
    "import pandas as pd\n",
    "import numpy as np\n",
    "from config  import league_id, espn_s2, swid\n",
    "\n",
    "import matplotlib.pyplot as plt"
   ]
  },
  {
   "cell_type": "code",
   "execution_count": null,
   "id": "343a1a50",
   "metadata": {
    "pycharm": {
     "name": "#%%\n"
    }
   },
   "outputs": [],
   "source": [
    "# Define URL parameters\n",
    "league_id = league_id\n",
    "year = 2022\n",
    "week = 1"
   ]
  },
  {
   "cell_type": "code",
   "execution_count": null,
   "id": "3cfb4691",
   "metadata": {
    "pycharm": {
     "name": "#%%\n"
    }
   },
   "outputs": [],
   "source": [
    "# Define cookie parameters\n",
    "espn_s2 = espn_s2\n",
    "swid = swid"
   ]
  },
  {
   "cell_type": "code",
   "execution_count": null,
   "id": "05b0477d",
   "metadata": {
    "pycharm": {
     "name": "#%%\n"
    }
   },
   "outputs": [],
   "source": [
    "# Define the URL with our parameters\n",
    "url = f\"https://fantasy.espn.com/apis/v3/games/ffl/seasons/{year}/segments/0/leagues/{league_id}\""
   ]
  },
  {
   "cell_type": "code",
   "execution_count": null,
   "id": "ba50d31e",
   "metadata": {
    "pycharm": {
     "name": "#%%\n"
    }
   },
   "outputs": [],
   "source": [
    "# Pull team and matchup data from the URL\n",
    "matchup_response = requests.get(url, \n",
    "                                params={\"leagueId\" : league_id,\n",
    "                                       \"seasonId\" : year,\n",
    "                                       \"matchupPeriodId\" : week,\n",
    "                                       \"view\": \"mMatchup\"},\n",
    "                               cookies={\"swid\" : swid,\n",
    "                                       \"espn_s2\" : espn_s2})\n",
    "\n",
    "team_response = requests.get(url, \n",
    "                                params={\"leagueId\" : league_id,\n",
    "                                       \"seasonId\" : year,\n",
    "                                       \"matchupPeriodId\" : week,\n",
    "                                       \"view\": \"mTeam\"},\n",
    "                               cookies={\"swid\" : swid,\n",
    "                                       \"espn_s2\" : espn_s2},)"
   ]
  },
  {
   "cell_type": "code",
   "execution_count": null,
   "id": "7573382b",
   "metadata": {
    "pycharm": {
     "name": "#%%\n"
    }
   },
   "outputs": [],
   "source": [
    "# Transform the response into a json\n",
    "matchup_json = matchup_response.json()\n",
    "team_json = team_response.json()"
   ]
  },
  {
   "cell_type": "code",
   "execution_count": null,
   "id": "558675a5",
   "metadata": {
    "pycharm": {
     "name": "#%%\n"
    }
   },
   "outputs": [],
   "source": [
    "# Transform both of the json outputs into DataFrames\n",
    "matchup_df = pd.json_normalize(matchup_json['schedule'])\n",
    "team_df = pd.json_normalize(team_json['teams'])"
   ]
  },
  {
   "cell_type": "code",
   "execution_count": null,
   "id": "c24fc8a6",
   "metadata": {
    "pycharm": {
     "name": "#%%\n"
    }
   },
   "outputs": [],
   "source": [
    "# Define the column names needed\n",
    "matchup_column_names = {\n",
    "    'matchupPeriodId':'Week', \n",
    "    'away.teamId':'Team1', \n",
    "    'away.totalPoints':'Score1',\n",
    "    'home.teamId':'Team2', \n",
    "    'home.totalPoints':'Score2',\n",
    "}\n",
    "\n",
    "team_column_names = {\n",
    "    'id':'id',\n",
    "    'location':'Name1',\n",
    "    'nickname':'Name2'\n",
    "}\n",
    "\n",
    "# Reindex based on column names defined above\n",
    "matchup_df = matchup_df.reindex(columns=matchup_column_names).rename(columns=matchup_column_names)\n",
    "team_df = team_df.reindex(columns=team_column_names).rename(columns=team_column_names)"
   ]
  },
  {
   "cell_type": "code",
   "execution_count": null,
   "id": "b9e494f4",
   "metadata": {
    "pycharm": {
     "name": "#%%\n"
    }
   },
   "outputs": [],
   "source": [
    "# Add a new column for regular/playoff game based on week number\n",
    "matchup_df['Type'] = ['Regular' if week<=13 else 'Playoff' for week in matchup_df['Week']]\n",
    "\n",
    "# Concatenate the two name columns\n",
    "team_df['Name'] = team_df['Name1'] + ' ' + team_df['Name2']\n",
    "\n",
    "# Drop all columns except id and Name\n",
    "team_df = team_df.filter(['id', 'Name'])"
   ]
  },
  {
   "cell_type": "code",
   "execution_count": null,
   "id": "02587b89",
   "metadata": {
    "pycharm": {
     "name": "#%%\n"
    }
   },
   "outputs": [],
   "source": [
    "# (1) Rename Team1 column to id\n",
    "matchup_df = matchup_df.rename(columns={\"Team1\":\"id\"})\n",
    "\n",
    "# (1) Merge DataFrames to get team names instead of ids and rename Name column to Name1\n",
    "matchup_df = matchup_df.merge(team_df, on=['id'], how='left')\n",
    "matchup_df = matchup_df.rename(columns={'Name':'Name1'})\n",
    "\n",
    "# (1) Drop the id column and reorder columns\n",
    "matchup_df = matchup_df[['Week', 'Name1', 'Score1', 'Team2', 'Score2', 'Type']]"
   ]
  },
  {
   "cell_type": "code",
   "execution_count": null,
   "id": "992ed39d",
   "metadata": {
    "pycharm": {
     "name": "#%%\n"
    }
   },
   "outputs": [],
   "source": [
    "# (2) Rename Team1 column to id\n",
    "matchup_df = matchup_df.rename(columns={\"Team2\":\"id\"})\n",
    "\n",
    "# (2) Merge DataFrames to get team names instead of ids and rename Name column to Name2\n",
    "matchup_df = matchup_df.merge(team_df, on=['id'], how='left')\n",
    "matchup_df = matchup_df.rename(columns={'Name':'Name2'})\n",
    "\n",
    "# (2) Drop the id column and reorder columns\n",
    "matchup_df = matchup_df[['Week', 'Name1', 'Score1', 'Name2', 'Score2', 'Type']]"
   ]
  },
  {
   "cell_type": "code",
   "execution_count": null,
   "id": "62437cb6",
   "metadata": {
    "pycharm": {
     "name": "#%%\n"
    }
   },
   "outputs": [],
   "source": [
    "# Filter down to the week in question\n",
    "week_matchup_df = matchup_df[matchup_df['Week'] == week]\n",
    "\n",
    "week_matchup_df"
   ]
  },
  {
   "cell_type": "code",
   "execution_count": null,
   "id": "322b5a31",
   "metadata": {
    "pycharm": {
     "name": "#%%\n"
    }
   },
   "outputs": [],
   "source": [
    "away_win_df = week_matchup_df[week_matchup_df['Score1'] > week_matchup_df['Score2']].reset_index()\n",
    "\n",
    "away_loss_df = week_matchup_df[week_matchup_df['Score1'] < week_matchup_df['Score2']].reset_index()\n",
    "\n",
    "home_win_df = week_matchup_df[week_matchup_df['Score2'] > week_matchup_df['Score1']].reset_index()\n",
    "\n",
    "home_loss_df = week_matchup_df[week_matchup_df['Score2'] < week_matchup_df['Score1']].reset_index()"
   ]
  },
  {
   "cell_type": "code",
   "execution_count": null,
   "id": "f9d11bd2",
   "metadata": {
    "pycharm": {
     "name": "#%%\n"
    }
   },
   "outputs": [],
   "source": [
    "# Calculate average score for the week\n",
    "average_score = (week_matchup_df['Score1'].sum() + week_matchup_df['Score2'].sum()) / 10\n",
    "\n",
    "average_score"
   ]
  },
  {
   "cell_type": "code",
   "execution_count": null,
   "id": "ee4399dc",
   "metadata": {
    "pycharm": {
     "name": "#%%\n"
    }
   },
   "outputs": [],
   "source": [
    "# Define plot size and autolayout\n",
    "plt.rcParams[\"figure.figsize\"] = [12, 12]\n",
    "#plt.rcParams[\"figure.autolayout\"] = True\n",
    "\n",
    "# Define the subplot\n",
    "fig, ax = plt.subplots()\n",
    "\n",
    "\n",
    "# Plot the data\n",
    "plt.scatter(away_win_df['Score1']- average_score, away_win_df['Score2'] - average_score, marker='s', c='green', s=300)\n",
    "plt.scatter(away_loss_df['Score1'] - average_score, away_loss_df['Score2'] - average_score, marker='X', c='red', s=300)\n",
    "plt.scatter(home_win_df['Score2']- average_score, home_win_df['Score1'] - average_score, marker='s', c='green', s=300)\n",
    "plt.scatter(home_loss_df['Score2'] - average_score, home_loss_df['Score1']- average_score, marker='X', c='red', s=300)\n",
    "\n",
    "# Loop through and annotate the away team names on the chart\n",
    "for name in range(0, 10):\n",
    "    try:\n",
    "        plt.annotate(away_win_df['Name1'][name], (away_win_df['Score1'][name] - average_score, away_win_df['Score2'][name] - average_score), fontsize=10)\n",
    "    except:\n",
    "        pass\n",
    "    try:\n",
    "        plt.annotate(away_loss_df['Name1'][name], (away_loss_df['Score1'][name] - average_score, away_loss_df['Score2'][name] - average_score), fontsize=10)\n",
    "    except:\n",
    "        pass\n",
    "    try:\n",
    "        plt.annotate(home_win_df['Name2'][name], (home_win_df['Score2'][name] - average_score, home_win_df['Score1'][name] - average_score), fontsize=10)\n",
    "    except:\n",
    "        pass\n",
    "    try:\n",
    "        plt.annotate(home_loss_df['Name2'][name], (home_loss_df['Score2'][name] - average_score, home_loss_df['Score1'][name] - average_score), fontsize=10)\n",
    "    except:\n",
    "        pass\n",
    "\n",
    "\n",
    "# Define axes' ranges - make this dynamic later\n",
    "plt.xlim((-50, 50))\n",
    "plt.ylim((-50, 50))\n",
    "\n",
    "\n",
    "# Move left y-axis and bottom x-axis to centre, passing through (0,0)\n",
    "ax.spines['left'].set_position('center')\n",
    "ax.spines['bottom'].set_position('center')\n",
    "ax.spines['top'].set_position('center')\n",
    "ax.spines['right'].set_position('center')\n",
    "\n",
    "# Annotate the quadrants\n",
    "plt.annotate(\"Unlucky Loss /\\n Tough Win Zone\", (1,5), fontsize=12);\n",
    "plt.annotate(\"Lucky Win /\\n Missed Opportunity Zone\", (-25, -10), fontsize=12);\n",
    "\n",
    "# Chart title\n",
    "plt.title(\n",
    "    f\"Pay Bills Then Die - Week {1}: Matchup Matrix\\n X-axis: Team Score +/- Average, Y-axis: Opponent score +/- Average\",\n",
    "    fontdict={'fontsize':20});"
   ]
  },
  {
   "cell_type": "code",
   "execution_count": null,
   "id": "42736abd-a331-4b5f-8601-693b16d69d18",
   "metadata": {},
   "outputs": [],
   "source": []
  }
 ],
 "metadata": {
  "kernelspec": {
   "display_name": "Python 3 (ipykernel)",
   "language": "python",
   "name": "python3"
  },
  "language_info": {
   "codemirror_mode": {
    "name": "ipython",
    "version": 3
   },
   "file_extension": ".py",
   "mimetype": "text/x-python",
   "name": "python",
   "nbconvert_exporter": "python",
   "pygments_lexer": "ipython3",
   "version": "3.9.7"
  }
 },
 "nbformat": 4,
 "nbformat_minor": 5
}
