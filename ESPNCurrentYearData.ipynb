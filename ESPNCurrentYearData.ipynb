{
 "cells": [
  {
   "cell_type": "code",
   "execution_count": 1,
   "id": "f2c7f824",
   "metadata": {
    "pycharm": {
     "name": "#%%\n"
    }
   },
   "outputs": [],
   "source": [
    "# Dependencies\n",
    "import requests\n",
    "import pandas as pd\n",
    "import numpy as np\n",
    "from config  import league_id, espn_s2, swid\n",
    "\n",
    "import matplotlib.pyplot as plt"
   ]
  },
  {
   "cell_type": "code",
   "execution_count": 2,
   "id": "343a1a50",
   "metadata": {
    "pycharm": {
     "name": "#%%\n"
    }
   },
   "outputs": [],
   "source": [
    "# Define URL parameters\n",
    "league_id = league_id\n",
    "year = 2022\n",
    "week = 1"
   ]
  },
  {
   "cell_type": "code",
   "execution_count": 3,
   "id": "3cfb4691",
   "metadata": {
    "pycharm": {
     "name": "#%%\n"
    }
   },
   "outputs": [],
   "source": [
    "# Define cookie parameters - hide these later\n",
    "espn_s2 = espn_s2\n",
    "swid = swid"
   ]
  },
  {
   "cell_type": "code",
   "execution_count": 4,
   "id": "05b0477d",
   "metadata": {
    "pycharm": {
     "name": "#%%\n"
    }
   },
   "outputs": [],
   "source": [
    "# Define the URL with our parameters\n",
    "url = f\"https://fantasy.espn.com/apis/v3/games/ffl/seasons/{year}/segments/0/leagues/{league_id}\""
   ]
  },
  {
   "cell_type": "code",
   "execution_count": 5,
   "id": "ba50d31e",
   "metadata": {
    "pycharm": {
     "name": "#%%\n"
    }
   },
   "outputs": [],
   "source": [
    "# Pull team and matchup data from the URL\n",
    "matchup_response = requests.get(url, \n",
    "                                params={\"leagueId\" : league_id,\n",
    "                                       \"seasonId\" : year,\n",
    "                                       \"matchupPeriodId\" : week,\n",
    "                                       \"view\": \"mMatchup\"},\n",
    "                               cookies={\"swid\" : swid,\n",
    "                                       \"espn_s2\" : espn_s2})\n",
    "\n",
    "team_response = requests.get(url, \n",
    "                                params={\"leagueId\" : league_id,\n",
    "                                       \"seasonId\" : year,\n",
    "                                       \"matchupPeriodId\" : week,\n",
    "                                       \"view\": \"mTeam\"},\n",
    "                               cookies={\"swid\" : swid,\n",
    "                                       \"espn_s2\" : espn_s2},)"
   ]
  },
  {
   "cell_type": "code",
   "execution_count": 6,
   "id": "7573382b",
   "metadata": {
    "pycharm": {
     "name": "#%%\n"
    }
   },
   "outputs": [],
   "source": [
    "# Transform the response into a json\n",
    "matchup_json = matchup_response.json()\n",
    "team_json = team_response.json()"
   ]
  },
  {
   "cell_type": "code",
   "execution_count": 7,
   "id": "558675a5",
   "metadata": {
    "pycharm": {
     "name": "#%%\n"
    }
   },
   "outputs": [],
   "source": [
    "# Transform both of the json outputs into DataFrames\n",
    "matchup_df = pd.json_normalize(matchup_json['schedule'])\n",
    "team_df = pd.json_normalize(team_json['teams'])"
   ]
  },
  {
   "cell_type": "code",
   "execution_count": 8,
   "id": "c24fc8a6",
   "metadata": {
    "pycharm": {
     "name": "#%%\n"
    }
   },
   "outputs": [],
   "source": [
    "# Define the column names needed\n",
    "matchup_column_names = {\n",
    "    'matchupPeriodId':'Week', \n",
    "    'away.teamId':'Team1', \n",
    "    'away.totalPoints':'Score1',\n",
    "    'home.teamId':'Team2', \n",
    "    'home.totalPoints':'Score2',\n",
    "}\n",
    "\n",
    "team_column_names = {\n",
    "    'id':'id',\n",
    "    'location':'Name1',\n",
    "    'nickname':'Name2'\n",
    "}\n",
    "\n",
    "# Reindex based on column names defined above\n",
    "matchup_df = matchup_df.reindex(columns=matchup_column_names).rename(columns=matchup_column_names)\n",
    "team_df = team_df.reindex(columns=team_column_names).rename(columns=team_column_names)"
   ]
  },
  {
   "cell_type": "code",
   "execution_count": 9,
   "id": "b9e494f4",
   "metadata": {
    "pycharm": {
     "name": "#%%\n"
    }
   },
   "outputs": [],
   "source": [
    "# Add a new column for regular/playoff game based on week number\n",
    "matchup_df['Type'] = ['Regular' if week<=13 else 'Playoff' for week in matchup_df['Week']]\n",
    "\n",
    "# Concatenate the two name columns\n",
    "team_df['Name'] = team_df['Name1'] + ' ' + team_df['Name2']\n",
    "\n",
    "# Drop all columns except id and Name\n",
    "team_df = team_df.filter(['id', 'Name'])"
   ]
  },
  {
   "cell_type": "code",
   "execution_count": 10,
   "id": "02587b89",
   "metadata": {
    "pycharm": {
     "name": "#%%\n"
    }
   },
   "outputs": [],
   "source": [
    "# (1) Rename Team1 column to id\n",
    "matchup_df = matchup_df.rename(columns={\"Team1\":\"id\"})\n",
    "\n",
    "# (1) Merge DataFrames to get team names instead of ids and rename Name column to Name1\n",
    "matchup_df = matchup_df.merge(team_df, on=['id'], how='left')\n",
    "matchup_df = matchup_df.rename(columns={'Name':'Name1'})\n",
    "\n",
    "# (1) Drop the id column and reorder columns\n",
    "matchup_df = matchup_df[['Week', 'Name1', 'Score1', 'Team2', 'Score2', 'Type']]"
   ]
  },
  {
   "cell_type": "code",
   "execution_count": 11,
   "id": "992ed39d",
   "metadata": {
    "pycharm": {
     "name": "#%%\n"
    }
   },
   "outputs": [],
   "source": [
    "# (2) Rename Team1 column to id\n",
    "matchup_df = matchup_df.rename(columns={\"Team2\":\"id\"})\n",
    "\n",
    "# (2) Merge DataFrames to get team names instead of ids and rename Name column to Name2\n",
    "matchup_df = matchup_df.merge(team_df, on=['id'], how='left')\n",
    "matchup_df = matchup_df.rename(columns={'Name':'Name2'})\n",
    "\n",
    "# (2) Drop the id column and reorder columns\n",
    "matchup_df = matchup_df[['Week', 'Name1', 'Score1', 'Name2', 'Score2', 'Type']]"
   ]
  },
  {
   "cell_type": "code",
   "execution_count": 12,
   "id": "23deb73c",
   "metadata": {
    "pycharm": {
     "name": "#%%\n"
    }
   },
   "outputs": [
    {
     "data": {
      "text/plain": "    Week                          Name1  Score1  \\\n0      1             Good Christian Men  100.74   \n1      1     The Christian  McGashrey's   93.72   \n2      1                   Hurts Donut?  155.28   \n3      1  Ha-Ha Hillary Loves Clinton D  137.11   \n4      1          Hangin with Hernandez   76.39   \n..   ...                            ...     ...   \n60    13                   gabby petito    0.00   \n61    13                  🍑 Etienne Szn    0.00   \n62    13                JJ's  SKOLdiers    0.00   \n63    13    Ill.  Fantasy Football Team    0.00   \n64    13          Hangin with Hernandez    0.00   \n\n                            Name2  Score2     Type  \n0     Ill.  Fantasy Football Team  152.70  Regular  \n1                   🍑 Etienne Szn   96.78  Regular  \n2                    gabby petito  127.82  Regular  \n3                2 Gurlz 1  Kupp   150.51  Regular  \n4                 JJ's  SKOLdiers  153.59  Regular  \n..                            ...     ...      ...  \n60               2 Gurlz 1  Kupp     0.00  Regular  \n61  Ha-Ha Hillary Loves Clinton D    0.00  Regular  \n62             Good Christian Men    0.00  Regular  \n63     The Christian  McGashrey's    0.00  Regular  \n64                   Hurts Donut?    0.00  Regular  \n\n[65 rows x 6 columns]",
      "text/html": "<div>\n<style scoped>\n    .dataframe tbody tr th:only-of-type {\n        vertical-align: middle;\n    }\n\n    .dataframe tbody tr th {\n        vertical-align: top;\n    }\n\n    .dataframe thead th {\n        text-align: right;\n    }\n</style>\n<table border=\"1\" class=\"dataframe\">\n  <thead>\n    <tr style=\"text-align: right;\">\n      <th></th>\n      <th>Week</th>\n      <th>Name1</th>\n      <th>Score1</th>\n      <th>Name2</th>\n      <th>Score2</th>\n      <th>Type</th>\n    </tr>\n  </thead>\n  <tbody>\n    <tr>\n      <th>0</th>\n      <td>1</td>\n      <td>Good Christian Men</td>\n      <td>100.74</td>\n      <td>Ill.  Fantasy Football Team</td>\n      <td>152.70</td>\n      <td>Regular</td>\n    </tr>\n    <tr>\n      <th>1</th>\n      <td>1</td>\n      <td>The Christian  McGashrey's</td>\n      <td>93.72</td>\n      <td>🍑 Etienne Szn</td>\n      <td>96.78</td>\n      <td>Regular</td>\n    </tr>\n    <tr>\n      <th>2</th>\n      <td>1</td>\n      <td>Hurts Donut?</td>\n      <td>155.28</td>\n      <td>gabby petito</td>\n      <td>127.82</td>\n      <td>Regular</td>\n    </tr>\n    <tr>\n      <th>3</th>\n      <td>1</td>\n      <td>Ha-Ha Hillary Loves Clinton D</td>\n      <td>137.11</td>\n      <td>2 Gurlz 1  Kupp</td>\n      <td>150.51</td>\n      <td>Regular</td>\n    </tr>\n    <tr>\n      <th>4</th>\n      <td>1</td>\n      <td>Hangin with Hernandez</td>\n      <td>76.39</td>\n      <td>JJ's  SKOLdiers</td>\n      <td>153.59</td>\n      <td>Regular</td>\n    </tr>\n    <tr>\n      <th>...</th>\n      <td>...</td>\n      <td>...</td>\n      <td>...</td>\n      <td>...</td>\n      <td>...</td>\n      <td>...</td>\n    </tr>\n    <tr>\n      <th>60</th>\n      <td>13</td>\n      <td>gabby petito</td>\n      <td>0.00</td>\n      <td>2 Gurlz 1  Kupp</td>\n      <td>0.00</td>\n      <td>Regular</td>\n    </tr>\n    <tr>\n      <th>61</th>\n      <td>13</td>\n      <td>🍑 Etienne Szn</td>\n      <td>0.00</td>\n      <td>Ha-Ha Hillary Loves Clinton D</td>\n      <td>0.00</td>\n      <td>Regular</td>\n    </tr>\n    <tr>\n      <th>62</th>\n      <td>13</td>\n      <td>JJ's  SKOLdiers</td>\n      <td>0.00</td>\n      <td>Good Christian Men</td>\n      <td>0.00</td>\n      <td>Regular</td>\n    </tr>\n    <tr>\n      <th>63</th>\n      <td>13</td>\n      <td>Ill.  Fantasy Football Team</td>\n      <td>0.00</td>\n      <td>The Christian  McGashrey's</td>\n      <td>0.00</td>\n      <td>Regular</td>\n    </tr>\n    <tr>\n      <th>64</th>\n      <td>13</td>\n      <td>Hangin with Hernandez</td>\n      <td>0.00</td>\n      <td>Hurts Donut?</td>\n      <td>0.00</td>\n      <td>Regular</td>\n    </tr>\n  </tbody>\n</table>\n<p>65 rows × 6 columns</p>\n</div>"
     },
     "execution_count": 12,
     "metadata": {},
     "output_type": "execute_result"
    }
   ],
   "source": [
    "# Get a look at the data\n",
    "matchup_df"
   ]
  },
  {
   "cell_type": "code",
   "execution_count": 13,
   "id": "62437cb6",
   "metadata": {
    "pycharm": {
     "name": "#%%\n"
    }
   },
   "outputs": [
    {
     "data": {
      "text/plain": "   Week                          Name1  Score1                        Name2  \\\n0     1             Good Christian Men  100.74  Ill.  Fantasy Football Team   \n1     1     The Christian  McGashrey's   93.72                🍑 Etienne Szn   \n2     1                   Hurts Donut?  155.28                 gabby petito   \n3     1  Ha-Ha Hillary Loves Clinton D  137.11             2 Gurlz 1  Kupp    \n4     1          Hangin with Hernandez   76.39              JJ's  SKOLdiers   \n\n   Score2     Type  \n0  152.70  Regular  \n1   96.78  Regular  \n2  127.82  Regular  \n3  150.51  Regular  \n4  153.59  Regular  ",
      "text/html": "<div>\n<style scoped>\n    .dataframe tbody tr th:only-of-type {\n        vertical-align: middle;\n    }\n\n    .dataframe tbody tr th {\n        vertical-align: top;\n    }\n\n    .dataframe thead th {\n        text-align: right;\n    }\n</style>\n<table border=\"1\" class=\"dataframe\">\n  <thead>\n    <tr style=\"text-align: right;\">\n      <th></th>\n      <th>Week</th>\n      <th>Name1</th>\n      <th>Score1</th>\n      <th>Name2</th>\n      <th>Score2</th>\n      <th>Type</th>\n    </tr>\n  </thead>\n  <tbody>\n    <tr>\n      <th>0</th>\n      <td>1</td>\n      <td>Good Christian Men</td>\n      <td>100.74</td>\n      <td>Ill.  Fantasy Football Team</td>\n      <td>152.70</td>\n      <td>Regular</td>\n    </tr>\n    <tr>\n      <th>1</th>\n      <td>1</td>\n      <td>The Christian  McGashrey's</td>\n      <td>93.72</td>\n      <td>🍑 Etienne Szn</td>\n      <td>96.78</td>\n      <td>Regular</td>\n    </tr>\n    <tr>\n      <th>2</th>\n      <td>1</td>\n      <td>Hurts Donut?</td>\n      <td>155.28</td>\n      <td>gabby petito</td>\n      <td>127.82</td>\n      <td>Regular</td>\n    </tr>\n    <tr>\n      <th>3</th>\n      <td>1</td>\n      <td>Ha-Ha Hillary Loves Clinton D</td>\n      <td>137.11</td>\n      <td>2 Gurlz 1  Kupp</td>\n      <td>150.51</td>\n      <td>Regular</td>\n    </tr>\n    <tr>\n      <th>4</th>\n      <td>1</td>\n      <td>Hangin with Hernandez</td>\n      <td>76.39</td>\n      <td>JJ's  SKOLdiers</td>\n      <td>153.59</td>\n      <td>Regular</td>\n    </tr>\n  </tbody>\n</table>\n</div>"
     },
     "execution_count": 13,
     "metadata": {},
     "output_type": "execute_result"
    }
   ],
   "source": [
    "# Filter down to the week in question\n",
    "week_matchup_df = matchup_df[matchup_df['Week'] == week]\n",
    "\n",
    "week_matchup_df"
   ]
  },
  {
   "cell_type": "code",
   "execution_count": 14,
   "id": "322b5a31",
   "metadata": {
    "pycharm": {
     "name": "#%%\n"
    }
   },
   "outputs": [
    {
     "data": {
      "text/plain": "   index  Week                          Name1  Score1  \\\n0      0     1             Good Christian Men  100.74   \n1      1     1     The Christian  McGashrey's   93.72   \n2      3     1  Ha-Ha Hillary Loves Clinton D  137.11   \n3      4     1          Hangin with Hernandez   76.39   \n\n                         Name2  Score2     Type  \n0  Ill.  Fantasy Football Team  152.70  Regular  \n1                🍑 Etienne Szn   96.78  Regular  \n2             2 Gurlz 1  Kupp   150.51  Regular  \n3              JJ's  SKOLdiers  153.59  Regular  ",
      "text/html": "<div>\n<style scoped>\n    .dataframe tbody tr th:only-of-type {\n        vertical-align: middle;\n    }\n\n    .dataframe tbody tr th {\n        vertical-align: top;\n    }\n\n    .dataframe thead th {\n        text-align: right;\n    }\n</style>\n<table border=\"1\" class=\"dataframe\">\n  <thead>\n    <tr style=\"text-align: right;\">\n      <th></th>\n      <th>index</th>\n      <th>Week</th>\n      <th>Name1</th>\n      <th>Score1</th>\n      <th>Name2</th>\n      <th>Score2</th>\n      <th>Type</th>\n    </tr>\n  </thead>\n  <tbody>\n    <tr>\n      <th>0</th>\n      <td>0</td>\n      <td>1</td>\n      <td>Good Christian Men</td>\n      <td>100.74</td>\n      <td>Ill.  Fantasy Football Team</td>\n      <td>152.70</td>\n      <td>Regular</td>\n    </tr>\n    <tr>\n      <th>1</th>\n      <td>1</td>\n      <td>1</td>\n      <td>The Christian  McGashrey's</td>\n      <td>93.72</td>\n      <td>🍑 Etienne Szn</td>\n      <td>96.78</td>\n      <td>Regular</td>\n    </tr>\n    <tr>\n      <th>2</th>\n      <td>3</td>\n      <td>1</td>\n      <td>Ha-Ha Hillary Loves Clinton D</td>\n      <td>137.11</td>\n      <td>2 Gurlz 1  Kupp</td>\n      <td>150.51</td>\n      <td>Regular</td>\n    </tr>\n    <tr>\n      <th>3</th>\n      <td>4</td>\n      <td>1</td>\n      <td>Hangin with Hernandez</td>\n      <td>76.39</td>\n      <td>JJ's  SKOLdiers</td>\n      <td>153.59</td>\n      <td>Regular</td>\n    </tr>\n  </tbody>\n</table>\n</div>"
     },
     "execution_count": 14,
     "metadata": {},
     "output_type": "execute_result"
    }
   ],
   "source": [
    "away_win_df = week_matchup_df[week_matchup_df['Score1'] > week_matchup_df['Score2']].reset_index()\n",
    "\n",
    "away_loss_df = week_matchup_df[week_matchup_df['Score1'] < week_matchup_df['Score2']].reset_index()\n",
    "\n",
    "home_win_df = week_matchup_df[week_matchup_df['Score2'] > week_matchup_df['Score1']].reset_index()\n",
    "\n",
    "home_loss_df = week_matchup_df[week_matchup_df['Score2'] < week_matchup_df['Score1']].reset_index()\n",
    "\n",
    "vis_df = pd.concat([away_win_df, away_loss_df, home_win_df, home_loss_df])\n",
    "\n",
    "home_win_df"
   ]
  },
  {
   "cell_type": "code",
   "execution_count": 15,
   "id": "f9d11bd2",
   "metadata": {
    "pycharm": {
     "name": "#%%\n"
    }
   },
   "outputs": [
    {
     "data": {
      "text/plain": "124.46399999999998"
     },
     "execution_count": 15,
     "metadata": {},
     "output_type": "execute_result"
    }
   ],
   "source": [
    "# Calculate average score for the week\n",
    "average_score = (vis_df['Score1'].sum() + vis_df['Score2'].sum()) / 20\n",
    "\n",
    "average_score"
   ]
  },
  {
   "cell_type": "code",
   "execution_count": 46,
   "id": "ee4399dc",
   "metadata": {
    "pycharm": {
     "name": "#%%\n"
    }
   },
   "outputs": [
    {
     "data": {
      "text/plain": "<Figure size 864x864 with 1 Axes>",
      "image/png": "[encoded data removed]"
     },
     "metadata": {
      "needs_background": "light"
     },
     "output_type": "display_data"
    }
   ],
   "source": [
    "# Define plot size and autolayout\n",
    "plt.rcParams[\"figure.figsize\"] = [12, 12]\n",
    "#plt.rcParams[\"figure.autolayout\"] = True\n",
    "\n",
    "# Define the subplot\n",
    "fig, ax = plt.subplots()\n",
    "\n",
    "\n",
    "# Plot the data\n",
    "plt.scatter(away_win_df['Score1']- average_score, away_win_df['Score2'] - average_score, marker='s', c='green', s=300)\n",
    "plt.scatter(away_loss_df['Score1'] - average_score, away_loss_df['Score2'] - average_score, marker='X', c='red', s=300)\n",
    "plt.scatter(home_win_df['Score2']- average_score, home_win_df['Score1'] - average_score, marker='s', c='green', s=300)\n",
    "plt.scatter(home_loss_df['Score2'] - average_score, home_loss_df['Score1']- average_score, marker='X', c='red', s=300)\n",
    "\n",
    "# Loop through and annotate the away team names on the chart\n",
    "for name in range(0, 10):\n",
    "    try:\n",
    "        plt.annotate(away_win_df['Name1'][name], (away_win_df['Score1'][name] - average_score, away_win_df['Score2'][name] - average_score), fontsize=10)\n",
    "    except:\n",
    "        pass\n",
    "    try:\n",
    "        plt.annotate(away_loss_df['Name1'][name], (away_loss_df['Score1'][name] - average_score, away_loss_df['Score2'][name] - average_score), fontsize=10)\n",
    "    except:\n",
    "        pass\n",
    "    try:\n",
    "        plt.annotate(home_win_df['Name2'][name], (home_win_df['Score2'][name] - average_score, home_win_df['Score1'][name] - average_score), fontsize=10)\n",
    "    except:\n",
    "        pass\n",
    "    try:\n",
    "        plt.annotate(home_loss_df['Name2'][name], (home_loss_df['Score2'][name] - average_score, home_loss_df['Score1'][name] - average_score), fontsize=10)\n",
    "    except:\n",
    "        pass\n",
    "\n",
    "\n",
    "# Define axes' ranges - make this dynamic later\n",
    "plt.xlim((-50, 50))\n",
    "plt.ylim((-50, 50))\n",
    "\n",
    "\n",
    "# Move left y-axis and bottom x-axis to centre, passing through (0,0)\n",
    "ax.spines['left'].set_position('center')\n",
    "ax.spines['bottom'].set_position('center')\n",
    "ax.spines['top'].set_position('center')\n",
    "ax.spines['right'].set_position('center')\n",
    "\n",
    "# Annotate the quadrants\n",
    "plt.annotate(\"Unlucky Loss /\\n Tough Win Zone\", (1,5), fontsize=12);\n",
    "plt.annotate(\"Lucky Win /\\n Missed Opportunity Zone\", (-25, -10), fontsize=12);\n",
    "plt.annotate(\"Get Wrecked Zone\", (-20,5), fontsize=12);\n",
    "plt.annotate(\"Crush the Competition Zone\", (1,-5), fontsize=12);\n",
    "\n",
    "# Chart title\n",
    "plt.title(\n",
    "    f\"Pay Bills Then Die - Week {1}: Matchup Matrix\\n X-axis: Team Score +/- Average, Y-axis: Opponent score +/- Average\",\n",
    "    fontdict={'fontsize':20});"
   ]
  },
  {
   "cell_type": "code",
   "execution_count": null,
   "outputs": [],
   "source": [],
   "metadata": {
    "collapsed": false,
    "pycharm": {
     "name": "#%%\n"
    }
   }
  }
 ],
 "metadata": {
  "kernelspec": {
   "display_name": "Python 3 (ipykernel)",
   "language": "python",
   "name": "python3"
  },
  "language_info": {
   "codemirror_mode": {
    "name": "ipython",
    "version": 3
   },
   "file_extension": ".py",
   "mimetype": "text/x-python",
   "name": "python",
   "nbconvert_exporter": "python",
   "pygments_lexer": "ipython3",
   "version": "3.9.12"
  }
 },
 "nbformat": 4,
 "nbformat_minor": 5
}